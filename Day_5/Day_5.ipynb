{
 "cells": [
  {
   "cell_type": "markdown",
   "metadata": {},
   "source": [
    "## Question 1: Program to find the first 20 non-even prime natural numbers."
   ]
  },
  {
   "cell_type": "code",
   "execution_count": 1,
   "metadata": {},
   "outputs": [
    {
     "name": "stdout",
     "output_type": "stream",
     "text": [
      "The first 20 non-even prime numbers are :\n",
      "3\n",
      "5\n",
      "7\n",
      "11\n",
      "13\n",
      "17\n",
      "19\n",
      "23\n",
      "29\n",
      "31\n",
      "37\n",
      "41\n",
      "43\n",
      "47\n",
      "53\n",
      "59\n",
      "61\n",
      "67\n",
      "71\n",
      "73\n"
     ]
    }
   ],
   "source": [
    "print(\"The first 20 non-even prime numbers are :\")\n",
    "for i in range(3,75,1): \n",
    "    flag=1; \n",
    "    for j in range(2,(i//2)+1,1): \n",
    "        if ((i%j)==0):\n",
    "            flag=0; \n",
    "            break; \n",
    "    if (flag==1): \n",
    "        print(i)"
   ]
  },
  {
   "cell_type": "markdown",
   "metadata": {},
   "source": [
    "## Question 2 : Program to implement 15 string functions."
   ]
  },
  {
   "cell_type": "code",
   "execution_count": 15,
   "metadata": {},
   "outputs": [
    {
     "name": "stdout",
     "output_type": "stream",
     "text": [
      "1: The original string is :      I am Divya S M and I love coding in Python    \n",
      "2: Swapping case in the string :      i AM dIVYA s m AND i LOVE CODING IN pYTHON    \n",
      "3 :String in upper case :      I AM DIVYA S M AND I LOVE CODING IN PYTHON    \n",
      "4: String in lower case :      i am divya s m and i love coding in python    \n",
      "5: Length of the sting :  50\n",
      "6: Checking if string has only alphabets :  False\n",
      "7: Replacing 'o' with 'Z' in string :      I am Divya S M and I lZve cZding in PythZn    \n",
      "8: Location of 'M' in string :  17\n",
      "9: Encoding string :  b'    I am Divya S M and I love coding in Python    '\n",
      "10: Finding the index of 'love' in string :  25\n",
      "11: Partitioning the string at 'and' :  ('    I am Divya S M ', 'and', ' I love coding in Python    ')\n",
      "12: String as title :      I Am Divya S M And I Love Coding In Python    \n",
      "13: Stripping the start and end white spaces :  I am Divya S M and I love coding in Python\n",
      "14: Does string start with 'Hello'? :  False\n",
      "15: Does string end with 'Python    '? :  True\n",
      "16: Splitting at ' ' in string :  ['', '', '', '', 'I', 'am', 'Divya', 'S', 'M', 'and', 'I', 'love', 'coding', 'in', 'Python', '', '', '', '']\n"
     ]
    }
   ],
   "source": [
    "str=\"    I am Divya S M and I love coding in Python    \"\n",
    "print(\"1: The original string is : \",str)\n",
    "print(\"2: Swapping case in the string : \",str.swapcase())\n",
    "print(\"3 :String in upper case : \",str.upper())\n",
    "print(\"4: String in lower case : \",str.lower())\n",
    "print(\"5: Length of the sting : \",len(str))\n",
    "print(\"6: Checking if string has only alphabets : \",str.isalpha())\n",
    "print(\"7: Replacing 'o' with 'Z' in string : \",str.replace('o','Z'))\n",
    "print(\"8: Location of 'M' in string : \",str.find('M'))\n",
    "print(\"9: Encoding string : \",str.encode())\n",
    "print(\"10: Finding the index of 'love' in string : \",str.index('love'))\n",
    "print(\"11: Partitioning the string at 'and' : \",str.partition('and'))\n",
    "print(\"12: String as title : \",str.title())\n",
    "print(\"13: Stripping the start and end white spaces : \", str.strip())\n",
    "print(\"14: Does string start with 'Hello'? : \",str.startswith('Hello'))\n",
    "print(\"15: Does string end with 'Python    '? : \",str.endswith('Python    '))\n",
    "print(\"16: Splitting at ' ' in string : \",str.split(' '))\n"
   ]
  },
  {
   "cell_type": "markdown",
   "metadata": {},
   "source": [
    "## Question 3 : Program to check if the given string is a Palindrome or Anagram or None of them. "
   ]
  },
  {
   "cell_type": "code",
   "execution_count": 17,
   "metadata": {},
   "outputs": [
    {
     "name": "stdout",
     "output_type": "stream",
     "text": [
      "Enter a string to check if it is a Palindrome: malayalam\n",
      "malayalam  is a Palindrome\n",
      "Enter 2 strings to check if they are Anagram: \n",
      "String 1 : listen\n",
      "String 2 : silent\n",
      "listen  and  silent  are Anagram\n"
     ]
    }
   ],
   "source": [
    "def palindrome(str):\n",
    "    if (str==str[::-1]):\n",
    "        print(str,\" is a Palindrome\")\n",
    "    else:\n",
    "        print(str,\" is not a Palindrome\")\n",
    "    \n",
    "def anagram(s1,s2):\n",
    "    if(sorted(s1)==sorted(s2)):\n",
    "        print(s1,\" and \",s2,\" are Anagram\")\n",
    "    else:\n",
    "        print(s1,\" and \",s2,\" are NOT Anagram\")\n",
    "\n",
    "str=input(\"Enter a string to check if it is a Palindrome: \")\n",
    "palindrome(str)\n",
    "print(\"Enter 2 strings to check if they are Anagram: \")\n",
    "s1=input(\"String 1 : \")\n",
    "s2=input(\"String 2 : \")\n",
    "anagram(s1,s2)"
   ]
  },
  {
   "cell_type": "markdown",
   "metadata": {},
   "source": [
    "## Question 4 : Program that has user defined function to remove all the additional characters(i.e, non-alphabets) from the string and converts it finally to lower case using built-in lower()."
   ]
  },
  {
   "cell_type": "code",
   "execution_count": 5,
   "metadata": {},
   "outputs": [
    {
     "name": "stdout",
     "output_type": "stream",
     "text": [
      "Enter a string : *He  ll_o!12_S:i?r\n",
      "hellosir\n"
     ]
    }
   ],
   "source": [
    "def show(stri):\n",
    "    l=[' ','.','!','@','#','$','%','^','&','*','?',':',',','_','-','1','2','3','4','5','6','7','8','9','0']\n",
    "    for x in l:\n",
    "        stri=stri.replace(x,'')\n",
    "    print(stri.lower()) \n",
    "        \n",
    "\n",
    "stri=input(\"Enter a string : \")\n",
    "show(stri)"
   ]
  }
 ],
 "metadata": {
  "kernelspec": {
   "display_name": "Python 3",
   "language": "python",
   "name": "python3"
  },
  "language_info": {
   "codemirror_mode": {
    "name": "ipython",
    "version": 3
   },
   "file_extension": ".py",
   "mimetype": "text/x-python",
   "name": "python",
   "nbconvert_exporter": "python",
   "pygments_lexer": "ipython3",
   "version": "3.7.6"
  }
 },
 "nbformat": 4,
 "nbformat_minor": 4
}
