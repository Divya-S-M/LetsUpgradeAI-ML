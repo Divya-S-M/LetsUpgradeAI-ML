{
 "cells": [
  {
   "cell_type": "code",
   "execution_count": 27,
   "metadata": {},
   "outputs": [],
   "source": [
    "import pandas as pd\n",
    "dataset=pd.read_csv(\"E:/LetsUpgrade/Day_24/train.csv\")\n",
    "from sklearn import preprocessing\n",
    "from sklearn.model_selection import train_test_split \n",
    "from sklearn.naive_bayes import GaussianNB\n",
    "from sklearn.metrics import accuracy_score\n",
    "from sklearn.metrics import confusion_matrix\n",
    "from sklearn.naive_bayes import *"
   ]
  },
  {
   "cell_type": "markdown",
   "metadata": {},
   "source": [
    "# Preprocessing"
   ]
  },
  {
   "cell_type": "code",
   "execution_count": 36,
   "metadata": {},
   "outputs": [],
   "source": [
    "le=preprocessing.LabelEncoder()\n",
    "le.fit(dataset[\"Sex\"])\n",
    "dataset[\"Sex\"]=le.transform(dataset[\"Sex\"])\n",
    "le.fit(dataset[\"Embarked\"])\n",
    "dataset[\"Embarked\"]=le.transform(dataset[\"Embarked\"])\n",
    "y=dataset[\"Survived\"]\n",
    "X=dataset.drop([\"Survived\",\"PassengerId\",\"Name\",\"Ticket\",\"Cabin\"],axis=1)"
   ]
  },
  {
   "cell_type": "markdown",
   "metadata": {},
   "source": [
    "# Splitting Data"
   ]
  },
  {
   "cell_type": "code",
   "execution_count": 38,
   "metadata": {},
   "outputs": [],
   "source": [
    "X_train,X_test,y_train,y_test=train_test_split(X,y,test_size=0.3,random_state=0)"
   ]
  },
  {
   "cell_type": "markdown",
   "metadata": {},
   "source": [
    "# Classifying records"
   ]
  },
  {
   "cell_type": "code",
   "execution_count": 39,
   "metadata": {},
   "outputs": [],
   "source": [
    "clf=BernoulliNB()\n",
    "y_pred=clf.fit(X_train,y_train).predict(X_test)"
   ]
  },
  {
   "cell_type": "markdown",
   "metadata": {},
   "source": [
    "# Calculating model accuracy and Confusion Matrix "
   ]
  },
  {
   "cell_type": "markdown",
   "metadata": {},
   "source": [
    "# Implementing as a Function"
   ]
  },
  {
   "cell_type": "markdown",
   "metadata": {},
   "source": [
    "**Considering Pclass, Gender, Sibling, ParentChild, Embarked as the Dependent Variables**"
   ]
  },
  {
   "cell_type": "code",
   "execution_count": 43,
   "metadata": {},
   "outputs": [
    {
     "name": "stdout",
     "output_type": "stream",
     "text": [
      "\n",
      "DV is Pclass\n",
      "Accuracy : 0.5767790262172284\n",
      "Confusion matrix : \n",
      " [[ 18   2  50]\n",
      " [  0   1  48]\n",
      " [ 10   3 135]]\n",
      "\n",
      "DV is Sex\n",
      "Accuracy : 1.0\n",
      "Confusion matrix : \n",
      " [[ 98   0]\n",
      " [  0 169]]\n",
      "\n",
      "DV is SibSp\n",
      "Accuracy : 0.9250936329588015\n",
      "Confusion matrix : \n",
      " [[182   0   0   0   0   0   0]\n",
      " [  0  65   0   0   0   0   0]\n",
      " [  0   8   0   0   0   0   0]\n",
      " [  0   7   0   0   0   0   0]\n",
      " [  0   2   0   0   0   0   0]\n",
      " [  0   1   0   0   0   0   0]\n",
      " [  0   2   0   0   0   0   0]]\n",
      "\n",
      "DV is Parch\n",
      "Accuracy : 0.8876404494382022\n",
      "Confusion matrix : \n",
      " [[198   0   0   0   0]\n",
      " [  0  33   7   0   0]\n",
      " [  0  21   6   0   0]\n",
      " [  0   1   0   0   0]\n",
      " [  0   0   1   0   0]]\n",
      "\n",
      "DV is Embarked\n",
      "Accuracy : 0.9176029962546817\n",
      "Confusion matrix : \n",
      " [[ 49   0   0]\n",
      " [  0   0  22]\n",
      " [  0   0 196]]\n"
     ]
    }
   ],
   "source": [
    "import pandas as pd\n",
    "dataset=pd.read_csv(\"E:/LetsUpgrade/Day_24/train.csv\")\n",
    "from sklearn import preprocessing\n",
    "from sklearn.model_selection import train_test_split \n",
    "from sklearn.naive_bayes import GaussianNB\n",
    "from sklearn.metrics import accuracy_score\n",
    "from sklearn.metrics import confusion_matrix\n",
    "from sklearn.naive_bayes import *\n",
    "le=preprocessing.LabelEncoder()\n",
    "le.fit(dataset[\"Sex\"])\n",
    "dataset[\"Sex\"]=le.transform(dataset[\"Sex\"])\n",
    "le.fit(dataset[\"Embarked\"])\n",
    "dataset[\"Embarked\"]=le.transform(dataset[\"Embarked\"])\n",
    "X=dataset.drop([\"Survived\",\"PassengerId\",\"Name\",\"Ticket\",\"Cabin\"],axis=1)\n",
    "\n",
    "\n",
    "def func(dataset,y1):\n",
    "    y=dataset[y1]\n",
    "    X_train,X_test,y_train,y_test=train_test_split(X,y,test_size=0.3,random_state=0)\n",
    "    clf=BernoulliNB()\n",
    "    y_pred=clf.fit(X_train,y_train).predict(X_test)\n",
    "    print(\"Accuracy :\",accuracy_score(y_test,y_pred,normalize=True))\n",
    "    print(\"Confusion matrix : \\n\",confusion_matrix(y_test,y_pred))\n",
    "    \n",
    "DVList=[\"Pclass\",\"Sex\",\"SibSp\",\"Parch\",\"Embarked\"]\n",
    "for i in DVList:\n",
    "    print(\"\\nDV is\",i)\n",
    "    func(dataset,i)"
   ]
  }
 ],
 "metadata": {
  "kernelspec": {
   "display_name": "Python 3",
   "language": "python",
   "name": "python3"
  },
  "language_info": {
   "codemirror_mode": {
    "name": "ipython",
    "version": 3
   },
   "file_extension": ".py",
   "mimetype": "text/x-python",
   "name": "python",
   "nbconvert_exporter": "python",
   "pygments_lexer": "ipython3",
   "version": "3.7.6"
  }
 },
 "nbformat": 4,
 "nbformat_minor": 4
}
