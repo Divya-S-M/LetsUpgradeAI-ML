{
 "cells": [
  {
   "cell_type": "markdown",
   "metadata": {},
   "source": [
    "## SETS in Python"
   ]
  },
  {
   "cell_type": "markdown",
   "metadata": {},
   "source": [
    "* A set is a collection which is unordered and unindexed.\n",
    "* Sets are written with curly brackets.\n",
    "* Sets are unordered, so they cannot be accessed using index.\n",
    "* Sets cannot be changed, but new items can be added.\n",
    "\n",
    "**The different functions related to Sets are as follows :**\n"
   ]
  },
  {
   "cell_type": "raw",
   "metadata": {},
   "source": [
    "           Method                    :                                         \tDescription\n",
    "* add()\t                             :                                    Adds an element to the set\n",
    "* clear()\t                         :                               Removes all the elements from the set\n",
    "* copy()\t                         :                                   Returns a copy of the set\n",
    "* difference()\t                     :                  Returns a set containing the difference between two or more sets\n",
    "* difference_update()\t             :           Removes the items in this set that are also included in another, specified set\n",
    "* discard()\t                         :                                  Remove the specified item\n",
    "* intersection()\t                 :                       Returns a set, that is the intersection of two other sets\n",
    "* intersection_update()\t             :            Removes the items in this set that are not present in other, specified set(s)\n",
    "* isdisjoint()                       :                        \tReturns whether two sets have a intersection or not\n",
    "* issubset()\t                     :                          Returns whether another set contains this set or not\n",
    "* issuperset()\t                     :                          Returns whether this set contains another set or not\n",
    "* pop()\t                             :                                     Removes an element from the set\n",
    "* remove()\t                         :                                      Removes the specified element\n",
    "* symmetric_difference()\t         :                          Returns a set with the symmetric differences of two sets\n",
    "* symmetric_difference_update()\t     :                        Inserts the symmetric differences from this set and another\n",
    "* union()\t                         :                                 Return a set containing the union of sets\n",
    "* update()\t                         :                             Update the set with the union of this set and others"
   ]
  },
  {
   "cell_type": "raw",
   "metadata": {},
   "source": [
    "Function to add items:\n",
    "1) add()\n",
    "2) update() "
   ]
  },
  {
   "cell_type": "code",
   "execution_count": 2,
   "metadata": {},
   "outputs": [
    {
     "name": "stdout",
     "output_type": "stream",
     "text": [
      "The Set is :  {'5 Star', 'DiaryMilk', 'KitKat'}\n",
      "Adding item to set:  {'5 Star', 'Munch', 'DiaryMilk', 'KitKat'}\n",
      "Updating Set :  {'5 Star', 'Bourbon', 'KitKat', 'Munch', 'HideNSeek', 'DiaryMilk'}\n"
     ]
    }
   ],
   "source": [
    "set1={\"KitKat\",\"DiaryMilk\",\"5 Star\"}\n",
    "print(\"The Set is : \",set1)\n",
    "#Using add():\n",
    "set1.add(\"Munch\")\n",
    "print(\"Adding item to set: \",set1)\n",
    "\n",
    "#Using update()\n",
    "set1.update([\"Bourbon\",\"HideNSeek\"])\n",
    "print(\"Updating Set : \",set1)"
   ]
  },
  {
   "cell_type": "raw",
   "metadata": {},
   "source": [
    "To find the length of a Set:\n",
    "len(setname)"
   ]
  },
  {
   "cell_type": "code",
   "execution_count": 3,
   "metadata": {},
   "outputs": [
    {
     "name": "stdout",
     "output_type": "stream",
     "text": [
      "Length of Set :  3\n"
     ]
    }
   ],
   "source": [
    "set1={\"KitKat\",\"DiaryMilk\",\"5 Star\"}\n",
    "print(\"Length of Set : \",len(set1))"
   ]
  },
  {
   "cell_type": "raw",
   "metadata": {},
   "source": [
    "To remove an item in a Set: \n",
    "1) remove()\n",
    "2) discard() \n",
    "\n",
    "* remove() : If the item to remove does not exist, remove() will raise an error.\n",
    "* discard(): If the item to remove does not exist, discard() will NOT raise an error."
   ]
  },
  {
   "cell_type": "code",
   "execution_count": 5,
   "metadata": {},
   "outputs": [
    {
     "name": "stdout",
     "output_type": "stream",
     "text": [
      "The set is :  {'5 Star', 'Bourbon', 'KitKat', 'Munch', 'HideNSeek', 'DiaryMilk'}\n",
      "Removing Munch from Set, the Set will be :  {'5 Star', 'Bourbon', 'KitKat', 'HideNSeek', 'DiaryMilk'}\n",
      "Discarding Bourbon from Set, the Set will be :  {'5 Star', 'KitKat', 'HideNSeek', 'DiaryMilk'}\n"
     ]
    }
   ],
   "source": [
    "set1={'5 Star', 'Bourbon', 'KitKat', 'Munch', 'HideNSeek', 'DiaryMilk'}\n",
    "print(\"The set is : \",set1)\n",
    "\n",
    "#Using remove()\n",
    "set1.remove(\"Munch\")\n",
    "print(\"Removing Munch from Set, the Set will be : \",set1)\n",
    "\n",
    "#Using discard()\n",
    "set1.discard(\"Bourbon\")\n",
    "print(\"Discarding Bourbon from Set, the Set will be : \",set1)"
   ]
  },
  {
   "cell_type": "raw",
   "metadata": {},
   "source": [
    "The last element can be popped out from Set using pop() function"
   ]
  },
  {
   "cell_type": "code",
   "execution_count": 7,
   "metadata": {},
   "outputs": [
    {
     "name": "stdout",
     "output_type": "stream",
     "text": [
      "The set is :  {'5 Star', 'Bourbon', 'KitKat', 'Munch', 'HideNSeek', 'DiaryMilk'}\n",
      "Popped element is :  5 Star\n",
      "After popping, the set is :  {'Bourbon', 'KitKat', 'Munch', 'HideNSeek', 'DiaryMilk'}\n"
     ]
    }
   ],
   "source": [
    "set1={'5 Star', 'Bourbon', 'KitKat', 'Munch', 'HideNSeek', 'DiaryMilk'}\n",
    "print(\"The set is : \",set1)\n",
    "\n",
    "#Using pop()\n",
    "x=set1.pop()\n",
    "print(\"Popped element is : \",x)\n",
    "print(\"After popping, the set is : \",set1)"
   ]
  },
  {
   "cell_type": "raw",
   "metadata": {},
   "source": [
    "* clear() function is used to empty a set\n",
    "* del keyword is used to delete a set"
   ]
  },
  {
   "cell_type": "code",
   "execution_count": 12,
   "metadata": {},
   "outputs": [
    {
     "name": "stdout",
     "output_type": "stream",
     "text": [
      "The set is :  {'5 Star', 'Bourbon', 'KitKat', 'Munch', 'HideNSeek', 'DiaryMilk'}\n",
      "After clearing, the Set now is : set()\n",
      "Set Deleted using 'del'\n"
     ]
    }
   ],
   "source": [
    "set1={'5 Star', 'Bourbon', 'KitKat', 'Munch', 'HideNSeek', 'DiaryMilk'}\n",
    "print(\"The set is : \",set1)\n",
    "#Clearing the set\n",
    "set1.clear()\n",
    "print(\"After clearing, the Set now is :\",set1)\n",
    "#Deleting a set\n",
    "del set1\n",
    "print(\"Set Deleted using 'del'\")"
   ]
  },
  {
   "cell_type": "markdown",
   "metadata": {},
   "source": [
    "## Joining Sets\n",
    "\n",
    "* union() method : Returns a new set containing all items from both sets\n",
    "* update() method : Inserts all the items from one set into another\n",
    "\n",
    "Note: Both union() and update() will exclude any duplicate items."
   ]
  },
  {
   "cell_type": "code",
   "execution_count": 17,
   "metadata": {},
   "outputs": [
    {
     "name": "stdout",
     "output_type": "stream",
     "text": [
      "Set1 is :  {'a', 'c', 'b'}\n",
      "Set2 is :  {1, 2, 3}\n",
      "Joining both the sets :  {1, 2, 3, 'c', 'a', 'b'}\n"
     ]
    }
   ],
   "source": [
    "set1 = {\"a\",\"b\",\"c\"}\n",
    "set2 = {1, 2, 3}\n",
    "print(\"Set1 is : \",set1)\n",
    "print(\"Set2 is : \",set2)\n",
    "print(\"Joining both the sets : \",set1.union(set2))\n"
   ]
  },
  {
   "cell_type": "code",
   "execution_count": 18,
   "metadata": {},
   "outputs": [
    {
     "name": "stdout",
     "output_type": "stream",
     "text": [
      "Joining sets using update():  {1, 2, 3, 'c', 'a', 'b'}\n"
     ]
    }
   ],
   "source": [
    "set1 = {\"a\", \"b\" , \"c\"}\n",
    "set2 = {1, 2, 3}\n",
    "\n",
    "set1.update(set2)\n",
    "print(\"Joining sets using update(): \",set1)"
   ]
  },
  {
   "cell_type": "raw",
   "metadata": {},
   "source": [
    "Displaying the common element in 2 sets using intersection()"
   ]
  },
  {
   "cell_type": "code",
   "execution_count": 19,
   "metadata": {},
   "outputs": [
    {
     "name": "stdout",
     "output_type": "stream",
     "text": [
      "Set 1 :  {3, 4, 6, 45, 13, 21, 22}\n",
      "Set 2 :  {1, 3, 4, 13, 21, 25}\n",
      "Common elements are :  {21, 3, 4, 13}\n"
     ]
    }
   ],
   "source": [
    "set1 = {22,4,45,6,3,21,13}\n",
    "set2 = {1,3,4,21,25,13}\n",
    "print(\"Set 1 : \",set1)\n",
    "print(\"Set 2 : \",set2)\n",
    "print(\"Common elements are : \",set1.intersection(set2))"
   ]
  },
  {
   "cell_type": "raw",
   "metadata": {},
   "source": [
    "Displaying the difference elements in 2 sets using difference()"
   ]
  },
  {
   "cell_type": "code",
   "execution_count": 20,
   "metadata": {},
   "outputs": [
    {
     "name": "stdout",
     "output_type": "stream",
     "text": [
      "Set 1 :  {3, 4, 6, 45, 13, 21, 22}\n",
      "Set 2 :  {1, 3, 4, 13, 21, 25}\n",
      "Non-common elements are :  {45, 6, 22}\n"
     ]
    }
   ],
   "source": [
    "set1 = {22,4,45,6,3,21,13}\n",
    "set2 = {1,3,4,21,25,13}\n",
    "print(\"Set 1 : \",set1)\n",
    "print(\"Set 2 : \",set2)\n",
    "print(\"Non-common elements are : \",set1.difference(set2))"
   ]
  },
  {
   "cell_type": "code",
   "execution_count": null,
   "metadata": {},
   "outputs": [],
   "source": []
  }
 ],
 "metadata": {
  "kernelspec": {
   "display_name": "Python 3",
   "language": "python",
   "name": "python3"
  },
  "language_info": {
   "codemirror_mode": {
    "name": "ipython",
    "version": 3
   },
   "file_extension": ".py",
   "mimetype": "text/x-python",
   "name": "python",
   "nbconvert_exporter": "python",
   "pygments_lexer": "ipython3",
   "version": "3.7.6"
  }
 },
 "nbformat": 4,
 "nbformat_minor": 4
}
