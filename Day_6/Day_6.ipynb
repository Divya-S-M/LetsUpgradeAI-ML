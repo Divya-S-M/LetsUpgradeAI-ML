{
 "cells": [
  {
   "cell_type": "markdown",
   "metadata": {},
   "source": [
    "**Question 1 : Assuming that we have some email addresses in the \"username@companyname.com\" format, write program\n",
    "to print the company name of a given email address. Both user names and company names are composed of letters\n",
    "only.**"
   ]
  },
  {
   "cell_type": "code",
   "execution_count": 30,
   "metadata": {},
   "outputs": [
    {
     "name": "stdout",
     "output_type": "stream",
     "text": [
      "Enter Your Email ID : divya@capgemini.com\n",
      "Your company is :  capgemini\n"
     ]
    }
   ],
   "source": [
    "st=input(\"Enter Your Email ID : \")\n",
    "a=st.split('@')\n",
    "b=a[1].split('.')\n",
    "print(\"Your company is : \",b[0])"
   ]
  },
  {
   "cell_type": "markdown",
   "metadata": {},
   "source": [
    "**Question 2: Write a program that accepts a comma-separated sequence of words as input and prints the words in a comma\n",
    "separated sequence after sorting them alphabetically.**"
   ]
  },
  {
   "cell_type": "code",
   "execution_count": 29,
   "metadata": {},
   "outputs": [
    {
     "name": "stdout",
     "output_type": "stream",
     "text": [
      "Enter the data : hi,hello,world,best\n",
      "Data in sorted order :  best,hello,hi,world\n"
     ]
    }
   ],
   "source": [
    "st=input(\"Enter the data : \")\n",
    "l=st.split(',')\n",
    "l=sorted(l)\n",
    "print(\"Data in sorted order : \",','.join(l))"
   ]
  },
  {
   "cell_type": "markdown",
   "metadata": {},
   "source": [
    "**Question 4 : Given a list of n-1 numbers ranging from 1 to n, find the missing number. There are no duplicates.**"
   ]
  },
  {
   "cell_type": "code",
   "execution_count": 28,
   "metadata": {},
   "outputs": [
    {
     "name": "stdout",
     "output_type": "stream",
     "text": [
      "Missing number is :  14.0\n"
     ]
    }
   ],
   "source": [
    "data=[1,2,3,4,5,6,7,8,9,10,11,12,13,15,16]\n",
    "total=sum(data)\n",
    "n=len(data)\n",
    "sum_n=(n+1)*(n+2)/2\n",
    "print(\"Missing number is : \",sum_n-total)"
   ]
  },
  {
   "cell_type": "markdown",
   "metadata": {},
   "source": [
    "**Question 5 : With a given list L, write a program to print this list L after removing all duplicate values with original order reserved.**"
   ]
  },
  {
   "cell_type": "code",
   "execution_count": 52,
   "metadata": {},
   "outputs": [
    {
     "name": "stdout",
     "output_type": "stream",
     "text": [
      "Original values :  [23, 25, 45, 62, 23, 76, 45, 56, 23]\n",
      "List with no duplicate values :  [23, 25, 45, 62, 76, 56]\n"
     ]
    }
   ],
   "source": [
    "data=[23,25,45,62,23,76,45,56,23]\n",
    "print(\"Original values : \",data)\n",
    "new_data=[]\n",
    "for i in data:\n",
    "    if i not in new_data:\n",
    "        new_data.append(i)\n",
    "print(\"List with no duplicate values : \",str(new_data))"
   ]
  }
 ],
 "metadata": {
  "kernelspec": {
   "display_name": "Python 3",
   "language": "python",
   "name": "python3"
  },
  "language_info": {
   "codemirror_mode": {
    "name": "ipython",
    "version": 3
   },
   "file_extension": ".py",
   "mimetype": "text/x-python",
   "name": "python",
   "nbconvert_exporter": "python",
   "pygments_lexer": "ipython3",
   "version": "3.7.6"
  }
 },
 "nbformat": 4,
 "nbformat_minor": 4
}
