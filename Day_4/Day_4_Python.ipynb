{
 "cells": [
  {
   "cell_type": "markdown",
   "metadata": {},
   "source": [
    "**Question 1 :Research on whether addition, subtraction, multiplication, division, floor division and modulo operations be performed on complex numbers. Implement a Python program to demonstrate these operations.**"
   ]
  },
  {
   "cell_type": "markdown",
   "metadata": {},
   "source": [
    "The operations that can be performed on complex numbers are:\n",
    "* Addition\n",
    "* Subtraction\n",
    "* Multiplication\n",
    "* Division\n",
    "\n",
    "The other operations like *floor division* and *modulo* cannot be performed. If tried, it will show the error."
   ]
  },
  {
   "cell_type": "code",
   "execution_count": 6,
   "metadata": {},
   "outputs": [
    {
     "name": "stdout",
     "output_type": "stream",
     "text": [
      "Addition :  (12-1j)\n",
      "Subtract :  (-3+1j)\n",
      "Mul :  (4+68j)\n",
      "Div :  (4.586206896551725-0.9655172413793105j)\n"
     ]
    }
   ],
   "source": [
    "print(\"Addition : \",(5+8j)+(7-9j))\n",
    "print(\"Subtract : \",(3+4j)-(6+3j))\n",
    "print(\"Mul : \",(4+8j)*(7+3j))\n",
    "print(\"Div : \",(35+7j)/(7+3j))"
   ]
  },
  {
   "cell_type": "markdown",
   "metadata": {},
   "source": [
    "**Question 2 : Research on range() functions and its parameters, implement a small program.**"
   ]
  },
  {
   "cell_type": "markdown",
   "metadata": {},
   "source": [
    "The range() function returns a sequence of numbers from start_index to end_index.\n",
    "\n",
    "**Syntax :**\n",
    "range(startindex,stopindex,stepsize)\n",
    "\n",
    "**Explanation:**\n",
    "* startindex : An integer number specifying at which position to start, by default it is 0*\n",
    "* endindex : An integer number specifying at which position to stop.\n",
    "* stepsize : An integer number specifying the incrementation, by default it is 1*\n",
    "\n",
    "**Note:** stop index is mandatory, whereas the other 2 parameters are optional (the default values will be given).\n",
    "\n",
    "**Example:** for range(stopindex)\n",
    "\n",
    "*Code:* \n",
    "for i in range(7):\n",
    "\n",
    "        print(i)\n",
    "    \n",
    "*Output:* \n",
    "0\n",
    "1\n",
    "2\n",
    "3\n",
    "4\n",
    "5\n",
    "6\n",
    "\n",
    "**Example:** for range(startindex,stopindex)\n",
    "\n",
    "*Code:*\n",
    "\n",
    "for in in range(12,20):\n",
    "        \n",
    "        print(i)\n",
    "\n",
    "*Output:*\n",
    "12\n",
    "13\n",
    "14\n",
    "15\n",
    "16\n",
    "17\n",
    "18\n",
    "19\n",
    "\n",
    "**Example:** for range(startindex,stopindex,stepsize)\n",
    "\n",
    "*Code:*\n",
    "\n",
    "for i in range(3,15,2):\n",
    "        \n",
    "        print(i)\n",
    "\n",
    "*Output:*\n",
    "3\n",
    "5\n",
    "7\n",
    "9\n",
    "11\n",
    "13\n",
    "\n",
    "*Note:* The stepsize given here is 2, so we can see that alternative numbers is displayed."
   ]
  },
  {
   "cell_type": "markdown",
   "metadata": {},
   "source": [
    "**Question 3 : Consider two numbers. Perform their subtraction and if the result of subtraction is greater than 25, print their multiplication result else print their division result.**\n",
    " "
   ]
  },
  {
   "cell_type": "code",
   "execution_count": 2,
   "metadata": {},
   "outputs": [
    {
     "name": "stdout",
     "output_type": "stream",
     "text": [
      "Enter first number : 15\n",
      "Enter second number : 5\n",
      "3.0\n"
     ]
    }
   ],
   "source": [
    "#Accepting user values\n",
    "x=int(input(\"Enter first number : \"))\n",
    "y=int(input(\"Enter second number : \"))\n",
    "\n",
    "#subtracting the values and stroing in variable sub\n",
    "sub=x-y\n",
    "\n",
    "#checking conditions\n",
    "if (sub>25):\n",
    "    print(x*y)\n",
    "else:\n",
    "    print(x/y)"
   ]
  },
  {
   "cell_type": "markdown",
   "metadata": {},
   "source": [
    "**Question 4 : Consider a list of 10 elements of integer values. If the number in the list is divisible by 2, print the\n",
    "result as \"square of that number minus 2\".**"
   ]
  },
  {
   "cell_type": "code",
   "execution_count": 12,
   "metadata": {},
   "outputs": [
    {
     "name": "stdout",
     "output_type": "stream",
     "text": [
      "Square of  14 - 2 value is : 194\n",
      "Square of  54 - 2 value is : 2914\n",
      "Square of  22 - 2 value is : 482\n",
      "Square of  66 - 2 value is : 4354\n",
      "Square of  90 - 2 value is : 8098\n"
     ]
    }
   ],
   "source": [
    "l=[14,23,54,22,67,53,87,66,90,21]   #declaring a list\n",
    "\n",
    "#logic\n",
    "\n",
    "for x in l:\n",
    "    if (x%2==0):\n",
    "        print(\"Square of \",x,\"- 2 value is :\",(x**2)-2)\n"
   ]
  },
  {
   "cell_type": "markdown",
   "metadata": {},
   "source": [
    "**Question 5 : Consider a list of 10 elements. Print all the elements in the list which are greater than 7 when that number is divided 2.**"
   ]
  },
  {
   "cell_type": "code",
   "execution_count": 1,
   "metadata": {},
   "outputs": [
    {
     "name": "stdout",
     "output_type": "stream",
     "text": [
      "The list is: [143, 5, 6, 70, 2, 43, 60, 14, 1, 35]\n",
      "The element in list which are greater than 7 when divided by 2 are : \n",
      "143\n",
      "70\n",
      "43\n",
      "60\n",
      "35\n"
     ]
    }
   ],
   "source": [
    "l=[143,5,6,70,2,43,60,14,1,35]  #declaring a list\n",
    "print(\"The list is:\",l)\n",
    "print(\"The element in list which are greater than 7 when divided by 2 are : \")\n",
    "\n",
    "#logic\n",
    "\n",
    "for x in l:\n",
    "    if (x/2 >7):\n",
    "        print(x)\n"
   ]
  }
 ],
 "metadata": {
  "kernelspec": {
   "display_name": "Python 3",
   "language": "python",
   "name": "python3"
  },
  "language_info": {
   "codemirror_mode": {
    "name": "ipython",
    "version": 3
   },
   "file_extension": ".py",
   "mimetype": "text/x-python",
   "name": "python",
   "nbconvert_exporter": "python",
   "pygments_lexer": "ipython3",
   "version": "3.7.6"
  }
 },
 "nbformat": 4,
 "nbformat_minor": 4
}
