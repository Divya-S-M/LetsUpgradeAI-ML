{
 "cells": [
  {
   "cell_type": "markdown",
   "metadata": {},
   "source": [
    "## Question 1 : Program to Subtract two Complex numbers using Python"
   ]
  },
  {
   "cell_type": "code",
   "execution_count": 7,
   "metadata": {},
   "outputs": [
    {
     "name": "stdout",
     "output_type": "stream",
     "text": [
      "(-8+6j)\n",
      "(4+3j)\n",
      "Subtraction of complex numbers =  (-12+3j)\n"
     ]
    }
   ],
   "source": [
    "x=complex(-8,6)\n",
    "y=complex(4,3)\n",
    "print(x)\n",
    "print(y)\n",
    "print(\"Subtraction of complex numbers = \",x-y)"
   ]
  },
  {
   "cell_type": "markdown",
   "metadata": {},
   "source": [
    "## Question 2 : Program to find the fourth root of a number using Python"
   ]
  },
  {
   "cell_type": "code",
   "execution_count": 8,
   "metadata": {},
   "outputs": [
    {
     "name": "stdout",
     "output_type": "stream",
     "text": [
      "Enter a number :625\n",
      "5.0\n"
     ]
    }
   ],
   "source": [
    "import math\n",
    "x=int(input(\"Enter a number :\"))\n",
    "print(math.sqrt(math.sqrt(x)))\n"
   ]
  },
  {
   "cell_type": "markdown",
   "metadata": {},
   "source": [
    "## Question 3 : Program to swap numbers using temporary variable"
   ]
  },
  {
   "cell_type": "code",
   "execution_count": 32,
   "metadata": {},
   "outputs": [
    {
     "name": "stdout",
     "output_type": "stream",
     "text": [
      "Enter first number:13\n",
      "Enter second number:65\n",
      "Numbers before swapping : x = 13 and y = 65\n",
      "Numbers after swapping : x = 65 and y = 13\n"
     ]
    }
   ],
   "source": [
    "#Accept value from the user\n",
    "\n",
    "x=int(input(\"Enter first number:\"))\n",
    "y=int(input(\"Enter second number:\"))\n",
    "print(\"Numbers before swapping : x =\",x,\"and y =\",y)\n",
    "\n",
    "#Swapping logic\n",
    "z=x\n",
    "x=y\n",
    "y=z\n",
    "\n",
    "print(\"Numbers after swapping : x =\",x,\"and y =\",y)\n"
   ]
  },
  {
   "cell_type": "markdown",
   "metadata": {},
   "source": [
    "## Question 4 : Program to swap numbers without using temporary variable"
   ]
  },
  {
   "cell_type": "code",
   "execution_count": 33,
   "metadata": {},
   "outputs": [
    {
     "name": "stdout",
     "output_type": "stream",
     "text": [
      "Enter first number:76\n",
      "Enter second number:34\n",
      "Numbers before swapping : x = 76 and y = 34\n",
      "Numbers after swapping : x = 34 and y = 76\n"
     ]
    }
   ],
   "source": [
    "#Accept values from the user\n",
    "\n",
    "x=int(input(\"Enter first number:\"))\n",
    "y=int(input(\"Enter second number:\"))\n",
    "print(\"Numbers before swapping : x =\",x,\"and y =\",y)\n",
    "\n",
    "#Swapping logic\n",
    "x=x+y\n",
    "y=x-y\n",
    "x=x-y\n",
    "\n",
    "print(\"Numbers after swapping : x =\",x,\"and y =\",y)"
   ]
  },
  {
   "cell_type": "markdown",
   "metadata": {},
   "source": [
    "## Question 5 : Program to convert Fahrenheit to kelvin and celsius"
   ]
  },
  {
   "cell_type": "code",
   "execution_count": 20,
   "metadata": {},
   "outputs": [
    {
     "name": "stdout",
     "output_type": "stream",
     "text": [
      "Enter degree Fahrenheit:110\n",
      "110 Fahrenheit= 43.333333333333336 Celsius\n",
      "110 Fahrenheit= 316.8333333333333 Kelvin\n"
     ]
    }
   ],
   "source": [
    "#Accept value from user\n",
    "f=int(input(\"Enter degree Fahrenheit:\"))\n",
    "\n",
    "#Calculate Celsius\n",
    "c = (f - 32) * 5 / 9\n",
    "\n",
    "print(f,\"Fahrenheit=\",c,\"Celsius\")\n",
    "\n",
    "#Calculate Kelvin\n",
    "k=273.5+c\n",
    "\n",
    "print(f,\"Fahrenheit=\",k,\"Kelvin\")"
   ]
  },
  {
   "cell_type": "markdown",
   "metadata": {},
   "source": [
    "## Question 6 : Program to demonstrate all the available data types in Python"
   ]
  },
  {
   "cell_type": "code",
   "execution_count": 34,
   "metadata": {},
   "outputs": [
    {
     "name": "stdout",
     "output_type": "stream",
     "text": [
      "5 is of type <class 'int'>\n",
      "22.04 is of type <class 'float'>\n",
      "(1+5j) is of type <class 'complex'>\n",
      "Hello is of type <class 'str'>\n",
      "[1, 2, 4] is of type <class 'list'>\n",
      "(12, 54, 88, 34) is of type <class 'tuple'>\n",
      "True is of type <class 'bool'>\n"
     ]
    }
   ],
   "source": [
    "a=5                  #Integer type\n",
    "b=22.04              #Float type\n",
    "c=1+5j               #Complex type\n",
    "d=\"Hello\"            #String type\n",
    "e=[1,2,4]            #List type\n",
    "f=(12,54,88,34)      #Tuple type\n",
    "g=True               #Boolean type\n",
    "print(a, \"is of type\", type(a))\n",
    "print(b, \"is of type\", type(b))\n",
    "print(c, \"is of type\", type(c))\n",
    "print(d, \"is of type\", type(d))\n",
    "print(e, \"is of type\", type(e))\n",
    "print(f, \"is of type\", type(f))\n",
    "print(g, \"is of type\", type(g))"
   ]
  },
  {
   "cell_type": "markdown",
   "metadata": {},
   "source": [
    "## Question 7 : Steps to create GitHub profile and upload GitHub assignments link"
   ]
  },
  {
   "cell_type": "markdown",
   "metadata": {},
   "source": [
    "**Steps to create GitHub Profile:**"
   ]
  },
  {
   "cell_type": "markdown",
   "metadata": {},
   "source": [
    "* Go to GitHub.com\n",
    "* Select 'GitHub Sign In'\n",
    "* Click on 'Create an Account'\n",
    "* Fill in your details and valid Mail ID\n",
    "* A mail will be sent to your Mail ID\n",
    "* Verify your accound\n",
    "* You are good to go"
   ]
  },
  {
   "cell_type": "markdown",
   "metadata": {},
   "source": [
    "**Steps to upload GitHub Assignment Links:**"
   ]
  },
  {
   "cell_type": "markdown",
   "metadata": {},
   "source": [
    "*Create a Repository in your GitHub*\n",
    "\n",
    "* Click on 'New' and go to Repository\n",
    "* Add the Repository name as 'LetsUpgradeAI-ML'\n",
    "* Add the Description as 'Assignment'\n",
    "* Click on Create Repository, without making anyother changes\n",
    "\n",
    "*Uploading assignment*\n",
    "\n",
    "* Click on 'Upload an Existing file' in GitHub home page\n",
    "* Go to the location where your assignment file is stored\n",
    "* Drag and drop the file into GitHub\n",
    "* Click on 'Commit Changes'\n",
    "\n",
    "*Attaching the link in Google Form*\n",
    "\n",
    "* Copy the path link from 'GitHub Repository' where your file is uploaded\n",
    "* Paste the URL in Google form.\n",
    "* Enter your valid details\n",
    "* Click on 'Submit'"
   ]
  }
 ],
 "metadata": {
  "kernelspec": {
   "display_name": "Python 3",
   "language": "python",
   "name": "python3"
  },
  "language_info": {
   "codemirror_mode": {
    "name": "ipython",
    "version": 3
   },
   "file_extension": ".py",
   "mimetype": "text/x-python",
   "name": "python",
   "nbconvert_exporter": "python",
   "pygments_lexer": "ipython3",
   "version": "3.7.6"
  }
 },
 "nbformat": 4,
 "nbformat_minor": 4
}
