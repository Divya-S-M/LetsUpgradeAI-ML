{
 "cells": [
  {
   "cell_type": "markdown",
   "metadata": {},
   "source": [
    "# 1. Create a 3x3x3 array with random values "
   ]
  },
  {
   "cell_type": "code",
   "execution_count": 1,
   "metadata": {},
   "outputs": [
    {
     "name": "stdout",
     "output_type": "stream",
     "text": [
      "[[79 96 57]\n",
      " [19 69 65]\n",
      " [20 64 87]]\n"
     ]
    }
   ],
   "source": [
    "import numpy as np\n",
    "arr=np.random.randint(1,100,size=(3,3))\n",
    "print(arr)\n"
   ]
  },
  {
   "cell_type": "markdown",
   "metadata": {},
   "source": [
    "# 2.Create a 5x5 matrix with values 1,2,3,4 just below the diagonal"
   ]
  },
  {
   "cell_type": "code",
   "execution_count": 2,
   "metadata": {},
   "outputs": [
    {
     "name": "stdout",
     "output_type": "stream",
     "text": [
      "[[0. 0. 0. 0. 0.]\n",
      " [1. 0. 0. 0. 0.]\n",
      " [0. 2. 0. 0. 0.]\n",
      " [0. 0. 3. 0. 0.]\n",
      " [0. 0. 0. 4. 0.]]\n"
     ]
    }
   ],
   "source": [
    "import numpy as np\n",
    "arr=np.zeros((5,5))\n",
    "n=0\n",
    "for i in range(1,5):\n",
    "    for j in range(0,5):\n",
    "        if (i == (j+1)):\n",
    "            arr[i][j]=n+1\n",
    "            n=n+1\n",
    "        else:\n",
    "            continue\n",
    "print(arr)"
   ]
  },
  {
   "cell_type": "markdown",
   "metadata": {},
   "source": [
    "# 3.Create a 8x8 matrix and fill it with a checkerboard pattern"
   ]
  },
  {
   "cell_type": "code",
   "execution_count": 3,
   "metadata": {},
   "outputs": [
    {
     "name": "stdout",
     "output_type": "stream",
     "text": [
      "[[0. 1. 0. 1. 0. 1. 0. 1.]\n",
      " [1. 0. 1. 0. 1. 0. 1. 0.]\n",
      " [0. 1. 0. 1. 0. 1. 0. 1.]\n",
      " [1. 0. 1. 0. 1. 0. 1. 0.]\n",
      " [0. 1. 0. 1. 0. 1. 0. 1.]\n",
      " [1. 0. 1. 0. 1. 0. 1. 0.]\n",
      " [0. 1. 0. 1. 0. 1. 0. 1.]\n",
      " [1. 0. 1. 0. 1. 0. 1. 0.]]\n"
     ]
    }
   ],
   "source": [
    "import numpy as np\n",
    "arr=np.zeros((8,8))\n",
    "n=0\n",
    "for i in range(0,8):\n",
    "    for j in range(0,8):\n",
    "        if ((i+j)%2 == 0):\n",
    "            arr[i][j]=0\n",
    "        else:\n",
    "            arr[i][j]=1\n",
    "print(arr)"
   ]
  },
  {
   "cell_type": "markdown",
   "metadata": {},
   "source": [
    "# 4. Normalize a 5x5 random matrix"
   ]
  },
  {
   "cell_type": "code",
   "execution_count": 9,
   "metadata": {},
   "outputs": [
    {
     "name": "stdout",
     "output_type": "stream",
     "text": [
      "Original Array:\n",
      "[[56 97 51 21 20]\n",
      " [14 20 70 27 82]\n",
      " [63 49 33 62 15]\n",
      " [17 53 64 48 12]\n",
      " [40 91 56 62 23]]\n",
      "After normalization:\n",
      "[[0.51764706 1.         0.45882353 0.10588235 0.09411765]\n",
      " [0.02352941 0.09411765 0.68235294 0.17647059 0.82352941]\n",
      " [0.6        0.43529412 0.24705882 0.58823529 0.03529412]\n",
      " [0.05882353 0.48235294 0.61176471 0.42352941 0.        ]\n",
      " [0.32941176 0.92941176 0.51764706 0.58823529 0.12941176]]\n"
     ]
    }
   ],
   "source": [
    "import numpy as np\n",
    "x= np.random.randint(1,99,size=(5,5))\n",
    "print(\"Original Array:\")\n",
    "print(x)\n",
    "xmax, xmin = x.max(), x.min()\n",
    "x = (x - xmin)/(xmax - xmin)\n",
    "print(\"After normalization:\")\n",
    "print(x)"
   ]
  },
  {
   "cell_type": "markdown",
   "metadata": {},
   "source": [
    "# 5.  How to find common values between two arrays?"
   ]
  },
  {
   "cell_type": "code",
   "execution_count": 12,
   "metadata": {},
   "outputs": [
    {
     "name": "stdout",
     "output_type": "stream",
     "text": [
      "Array1: \n",
      " [[ 0 10]\n",
      " [20 40]\n",
      " [ 2 54]]\n",
      "Array2: \n",
      " [[10 30]\n",
      " [ 3 40]\n",
      " [ 0 11]]\n",
      "Common values between two arrays:\n",
      "[ 0 10 40]\n"
     ]
    }
   ],
   "source": [
    "import numpy as np\n",
    "array1 = np.array(([0, 10], [20, 40], [2, 54]))\n",
    "print(\"Array1: \\n\",array1)\n",
    "array2 = np.array(([10, 30],[3, 40], [0, 11]))\n",
    "print(\"Array2: \\n\",array2)\n",
    "print(\"Common values between two arrays:\")\n",
    "print(np.intersect1d(array1, array2))"
   ]
  },
  {
   "cell_type": "markdown",
   "metadata": {},
   "source": [
    "# 6.How to get the dates of yesterday, today and tomorrow?"
   ]
  },
  {
   "cell_type": "code",
   "execution_count": 13,
   "metadata": {},
   "outputs": [
    {
     "name": "stdout",
     "output_type": "stream",
     "text": [
      "Yestraday:  2020-07-24\n",
      "Today:  2020-07-25\n",
      "Tomorrow:  2020-07-26\n"
     ]
    }
   ],
   "source": [
    "import numpy as np\n",
    "yesterday = np.datetime64('today', 'D') - np.timedelta64(1, 'D')\n",
    "print(\"Yestraday: \",yesterday)\n",
    "today     = np.datetime64('today', 'D')\n",
    "print(\"Today: \",today)\n",
    "tomorrow  = np.datetime64('today', 'D') + np.timedelta64(1, 'D')\n",
    "print(\"Tomorrow: \",tomorrow)"
   ]
  },
  {
   "cell_type": "markdown",
   "metadata": {},
   "source": [
    "# 7. Consider two random array A and B, check if they are equal"
   ]
  },
  {
   "cell_type": "code",
   "execution_count": 8,
   "metadata": {},
   "outputs": [
    {
     "name": "stdout",
     "output_type": "stream",
     "text": [
      "Equal\n"
     ]
    }
   ],
   "source": [
    "A = np.array([[1,2],[3,4]])\n",
    "B = np.array([[1,2],[3,4]])\n",
    "\n",
    "comparison = (A == B)\n",
    "if (comparison.all()):\n",
    "    print(\"Equal\")\n",
    "else:\n",
    "    print(\"Not equal\")"
   ]
  },
  {
   "cell_type": "markdown",
   "metadata": {},
   "source": [
    "# 8.Create random vector of size 10 and replace the maximum value by 0 "
   ]
  },
  {
   "cell_type": "code",
   "execution_count": 14,
   "metadata": {},
   "outputs": [
    {
     "name": "stdout",
     "output_type": "stream",
     "text": [
      "Original array is :  [10, 32, 45, 90, 9, 5, 66, 1, 63, 15]\n",
      "Maximum element =  90\n",
      "After replacing the maximum element, array is  [10, 32, 45, 0, 9, 5, 66, 1, 63, 15]\n"
     ]
    }
   ],
   "source": [
    "def largest(vec,n): \n",
    "    max = vec[0] \n",
    "    for i in range(1, n): \n",
    "        if vec[i] > max: \n",
    "            max = vec[i]\n",
    "            j=i\n",
    "    vec2[j]=0\n",
    "    print(\"Maximum element = \",max)\n",
    "\n",
    "vec = [10, 32, 45, 90, 9, 5, 66, 1, 63, 15]\n",
    "print(\"Original array is : \",vec)\n",
    "vec2=vec\n",
    "n = len(vec) \n",
    "largest(vec,n)\n",
    "print(\"After replacing the maximum element, array is \",vec2)"
   ]
  },
  {
   "cell_type": "markdown",
   "metadata": {},
   "source": [
    "# 9. How to print all the values of an array?"
   ]
  },
  {
   "cell_type": "code",
   "execution_count": 6,
   "metadata": {},
   "outputs": [
    {
     "name": "stdout",
     "output_type": "stream",
     "text": [
      "[[11 22]\n",
      " [33 44]\n",
      " [55 66]\n",
      " [77 88]]\n"
     ]
    }
   ],
   "source": [
    "# To print all the values of an array, just write the function print(array_name)\n",
    "import numpy as np\n",
    "arr=np.array(([11,22],[33,44],[55,66],[77,88]))\n",
    "print(arr)"
   ]
  },
  {
   "cell_type": "markdown",
   "metadata": {},
   "source": [
    "# 10.Subtract the mean of each row of a matrix"
   ]
  },
  {
   "cell_type": "code",
   "execution_count": 7,
   "metadata": {},
   "outputs": [
    {
     "name": "stdout",
     "output_type": "stream",
     "text": [
      "The Array is: \n",
      " [[1 3]\n",
      " [3 5]\n",
      " [7 3]]\n",
      "Mean of row  0  is :  2.0\n",
      "Mean of row  1  is :  4.0\n",
      "Mean of row  2  is :  5.0\n",
      "Array after subtracting mean of each row with each element in the row : \n",
      " [[-1  1]\n",
      " [-1  1]\n",
      " [ 2 -2]]\n"
     ]
    }
   ],
   "source": [
    "import numpy as np\n",
    "arr=np.array(([1,3],[3,5],[7,3]))\n",
    "print(\"The Array is: \\n\",arr)\n",
    "for i in range(0,3):\n",
    "        a=arr[i].mean()\n",
    "        print(\"Mean of row \",i,\" is : \",a)\n",
    "        arr[i]=arr[i]-a\n",
    "print(\"Array after subtracting mean of each row with each element in the row : \\n\",arr)\n"
   ]
  },
  {
   "cell_type": "markdown",
   "metadata": {},
   "source": [
    "# 11.Consider a given vector, how to add 1 to each element indexed by a second vector (be careful with repeated indices)? "
   ]
  },
  {
   "cell_type": "code",
   "execution_count": 19,
   "metadata": {},
   "outputs": [
    {
     "name": "stdout",
     "output_type": "stream",
     "text": [
      "[5. 2. 3. 4. 1. 2. 2. 4. 4. 3.]\n"
     ]
    }
   ],
   "source": [
    "A = np.ones(10)\n",
    "B = np.random.randint(0,len(A),20)\n",
    "A += np.bincount(B, minlength=len(A))\n",
    "print(A)"
   ]
  },
  {
   "cell_type": "markdown",
   "metadata": {},
   "source": [
    "# 12.How to get the diagonal of a dot product?"
   ]
  },
  {
   "cell_type": "code",
   "execution_count": 21,
   "metadata": {},
   "outputs": [
    {
     "name": "stdout",
     "output_type": "stream",
     "text": [
      "Array 1 : \n",
      " [[5 0 7]\n",
      " [1 1 7]\n",
      " [4 6 3]] \n",
      "Array 2 : \n",
      " [[1 1 7]\n",
      " [8 8 5]\n",
      " [5 7 9]]\n"
     ]
    },
    {
     "data": {
      "text/plain": [
       "array([40, 58, 85])"
      ]
     },
     "execution_count": 21,
     "metadata": {},
     "output_type": "execute_result"
    }
   ],
   "source": [
    "A = np.random.randint(0,10,(3,3))\n",
    "B= np.random.randint(0,10,(3,3))\n",
    "print(\"Array 1 : \\n\",A,\"\\nArray 2 : \\n\",B)\n",
    "np.sum(A * B.T, axis=1)\n"
   ]
  },
  {
   "cell_type": "markdown",
   "metadata": {},
   "source": [
    "# 13.How to find the most frequent value in an array?"
   ]
  },
  {
   "cell_type": "code",
   "execution_count": 24,
   "metadata": {},
   "outputs": [
    {
     "name": "stdout",
     "output_type": "stream",
     "text": [
      "Array is : \n",
      " [0 3 5 0 5 9 1 6 3 3 1 1 8 4 0 0 1 7 2 9 3 1 2 7 7 7 3 0 5 1 2 5 2 0 9 6 7\n",
      " 5 8 5 4 0 5 1 1 7 8 3 1 2]\n",
      "Most frequent value is :  1\n"
     ]
    }
   ],
   "source": [
    "arr = np.random.randint(0,10,50)\n",
    "print (\"Array is : \\n\",arr)\n",
    "print('Most frequent value is : ', np.bincount(arr).argmax())"
   ]
  },
  {
   "cell_type": "markdown",
   "metadata": {},
   "source": [
    "# 14.How to get the n largest values of an array"
   ]
  },
  {
   "cell_type": "code",
   "execution_count": 29,
   "metadata": {},
   "outputs": [
    {
     "name": "stdout",
     "output_type": "stream",
     "text": [
      "[95 96 97 98 99]\n"
     ]
    }
   ],
   "source": [
    "Z = np.arange(100)\n",
    "np.random.shuffle(Z)\n",
    "n = 5\n",
    "print (Z[np.argsort(Z)[-n:]])"
   ]
  },
  {
   "cell_type": "markdown",
   "metadata": {},
   "source": [
    "# 15.How to create a record array from a regular array?"
   ]
  },
  {
   "cell_type": "code",
   "execution_count": 37,
   "metadata": {},
   "outputs": [
    {
     "name": "stdout",
     "output_type": "stream",
     "text": [
      "Regular array : \n",
      " [['Hi' '9.5' '13']\n",
      " ['Hello' '3.6' '32']]\n",
      "Record array : \n",
      " [('Hi', '9.5', '13') ('Hello', '3.6', '32')]\n"
     ]
    }
   ],
   "source": [
    "arr = np.array([(\"Hi\", 9.5, 13),\n",
    "              (\"Hello\", 3.6, 32)])\n",
    "rec = np.core.records.fromarrays(arr.T, names='col1, col2, col3')\n",
    "print(\"Regular array : \\n\",arr)\n",
    "print(\"Record array : \\n\",rec)"
   ]
  }
 ],
 "metadata": {
  "kernelspec": {
   "display_name": "Python 3",
   "language": "python",
   "name": "python3"
  },
  "language_info": {
   "codemirror_mode": {
    "name": "ipython",
    "version": 3
   },
   "file_extension": ".py",
   "mimetype": "text/x-python",
   "name": "python",
   "nbconvert_exporter": "python",
   "pygments_lexer": "ipython3",
   "version": "3.7.6"
  }
 },
 "nbformat": 4,
 "nbformat_minor": 2
}
