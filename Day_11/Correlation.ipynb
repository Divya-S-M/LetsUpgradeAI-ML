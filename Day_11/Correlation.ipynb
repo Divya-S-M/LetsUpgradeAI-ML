# -*- coding: utf-8 -*-
"""
Spyder Editor

This is a temporary script file.
"""

import pandas as pd
dataset=pd.read_csv("E:/LetsUpgrade/Day_7 Assignment/general_data.csv")


