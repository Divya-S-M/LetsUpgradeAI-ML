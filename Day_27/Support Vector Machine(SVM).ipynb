{
 "cells": [
  {
   "cell_type": "code",
   "execution_count": 3,
   "metadata": {},
   "outputs": [],
   "source": [
    "import pandas as pd\n",
    "dataset=pd.read_csv(\"E:/LetsUpgrade/Day_24/train.csv\")\n",
    "from sklearn import preprocessing\n",
    "from sklearn.model_selection import train_test_split \n",
    "from sklearn.metrics import accuracy_score\n",
    "from sklearn.metrics import confusion_matrix\n",
    "from sklearn import svm"
   ]
  },
  {
   "cell_type": "markdown",
   "metadata": {},
   "source": [
    "## Preprocessing"
   ]
  },
  {
   "cell_type": "code",
   "execution_count": 4,
   "metadata": {},
   "outputs": [],
   "source": [
    "le=preprocessing.LabelEncoder()\n",
    "le.fit(dataset[\"Sex\"])\n",
    "dataset[\"Sex\"]=le.transform(dataset[\"Sex\"])\n",
    "le.fit(dataset[\"Embarked\"])\n",
    "dataset[\"Embarked\"]=le.transform(dataset[\"Embarked\"])"
   ]
  },
  {
   "cell_type": "markdown",
   "metadata": {},
   "source": [
    "## Setting Independent Variables Dataset"
   ]
  },
  {
   "cell_type": "code",
   "execution_count": 5,
   "metadata": {},
   "outputs": [],
   "source": [
    "X=dataset.drop([\"Survived\",\"PassengerId\",\"Name\",\"Ticket\",\"Cabin\"],axis=1)"
   ]
  },
  {
   "cell_type": "markdown",
   "metadata": {},
   "source": [
    "## Implementing Function for SVM and classifying data using HyperPlane"
   ]
  },
  {
   "cell_type": "code",
   "execution_count": 7,
   "metadata": {},
   "outputs": [
    {
     "name": "stdout",
     "output_type": "stream",
     "text": [
      "\n",
      "DV is Pclass\n",
      "Accuracy : 0.9700374531835206\n",
      "Confusion matrix : \n",
      " [[ 67   2   1]\n",
      " [  2  46   1]\n",
      " [  0   2 146]]\n",
      "\n",
      "DV is Survived\n",
      "Accuracy : 0.7415730337078652\n",
      "Confusion matrix : \n",
      " [[124  33]\n",
      " [ 36  74]]\n",
      "\n",
      "DV is Sex\n",
      "Accuracy : 0.9213483146067416\n",
      "Confusion matrix : \n",
      " [[ 90   8]\n",
      " [ 13 156]]\n",
      "\n",
      "DV is SibSp\n",
      "Accuracy : 0.8651685393258427\n",
      "Confusion matrix : \n",
      " [[168  10   4   0   0   0   0]\n",
      " [ 14  48   3   0   0   0   0]\n",
      " [  2   2   4   0   0   0   0]\n",
      " [  0   0   1   6   0   0   0]\n",
      " [  0   0   0   0   2   0   0]\n",
      " [  0   0   0   0   0   1   0]\n",
      " [  0   0   0   0   0   0   2]]\n",
      "\n",
      "DV is Parch\n",
      "Accuracy : 0.8838951310861424\n",
      "Confusion matrix : \n",
      " [[194   1   3   0   0]\n",
      " [ 14  25   1   0   0]\n",
      " [  6   4  17   0   0]\n",
      " [  0   0   1   0   0]\n",
      " [  0   0   1   0   0]]\n",
      "\n",
      "DV is Embarked\n",
      "Accuracy : 0.9662921348314607\n",
      "Confusion matrix : \n",
      " [[ 46   0   3]\n",
      " [  0  22   0]\n",
      " [  5   1 190]]\n"
     ]
    }
   ],
   "source": [
    "def func(dataset,y1):\n",
    "    y=dataset[y1]\n",
    "    X_train,X_test,y_train,y_test=train_test_split(X,y,test_size=0.3,random_state=0)\n",
    "    clf=svm.SVC(gamma=0.01,C=100)\n",
    "    clf.fit(X_train,y_train)\n",
    "    y_pred=clf.predict(X_test)\n",
    "    print(\"Accuracy :\",accuracy_score(y_test,y_pred,normalize=True))\n",
    "    print(\"Confusion matrix : \\n\",confusion_matrix(y_test,y_pred))\n",
    "    \n",
    "DVList=[\"Pclass\",\"Survived\",\"Sex\",\"SibSp\",\"Parch\",\"Embarked\"]\n",
    "for i in DVList:\n",
    "    print(\"\\nDV is\",i)\n",
    "    func(dataset,i)"
   ]
  },
  {
   "cell_type": "markdown",
   "metadata": {},
   "source": [
    "## Result"
   ]
  },
  {
   "cell_type": "markdown",
   "metadata": {},
   "source": [
    "**Inference:**\n",
    "* When DV is Passenger class, accuracy is 97%\n",
    "* When DV is Survived, accuracy is 74.15%\n",
    "* When DV is Gender, accuracy is 92.13%\n",
    "* When DV is Sibling, accuracy is 86.51% \n",
    "* When DV is Parent-child, accuracy is 88.38%\n",
    "* When DV is Embarked, accuracy is 96.62% \n",
    "\n",
    "_Hence, the data classified using Hyper Plane, gives the best result with variables Passenger class, Gender and Embarked._"
   ]
  }
 ],
 "metadata": {
  "kernelspec": {
   "display_name": "Python 3",
   "language": "python",
   "name": "python3"
  },
  "language_info": {
   "codemirror_mode": {
    "name": "ipython",
    "version": 3
   },
   "file_extension": ".py",
   "mimetype": "text/x-python",
   "name": "python",
   "nbconvert_exporter": "python",
   "pygments_lexer": "ipython3",
   "version": "3.7.6"
  }
 },
 "nbformat": 4,
 "nbformat_minor": 4
}
